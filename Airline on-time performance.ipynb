{
 "cells": [
  {
   "cell_type": "code",
   "execution_count": 164,
   "metadata": {
    "collapsed": true
   },
   "outputs": [],
   "source": [
    "import numpy as np\n",
    "import pandas as pd\n",
    "import matplotlib.pyplot as plt\n",
    "import random\n",
    "\n",
    "from sklearn.model_selection import train_test_split\n",
    "from sklearn.preprocessing import LabelEncoder,OneHotEncoder,StandardScaler\n",
    "\n",
    "from sklearn.linear_model import LogisticRegression\n",
    "from sklearn.ensemble import RandomForestClassifier\n",
    "from sklearn.metrics import accuracy_score,confusion_matrix,classification_report\n",
    "%matplotlib inline"
   ]
  },
  {
   "cell_type": "code",
   "execution_count": 2,
   "metadata": {
    "collapsed": true
   },
   "outputs": [],
   "source": [
    "df_2007= pd.read_csv('2007.csv')\n",
    "#df_2008=pd.read_csv('2008.csv')"
   ]
  },
  {
   "cell_type": "code",
   "execution_count": 4,
   "metadata": {},
   "outputs": [
    {
     "data": {
      "text/plain": [
       "Index([u'Year', u'Month', u'DayofMonth', u'DayOfWeek', u'DepTime',\n",
       "       u'CRSDepTime', u'ArrTime', u'CRSArrTime', u'UniqueCarrier',\n",
       "       u'FlightNum', u'TailNum', u'ActualElapsedTime', u'CRSElapsedTime',\n",
       "       u'AirTime', u'ArrDelay', u'DepDelay', u'Origin', u'Dest', u'Distance',\n",
       "       u'TaxiIn', u'TaxiOut', u'Cancelled', u'CancellationCode', u'Diverted',\n",
       "       u'CarrierDelay', u'WeatherDelay', u'NASDelay', u'SecurityDelay',\n",
       "       u'LateAircraftDelay'],\n",
       "      dtype='object')"
      ]
     },
     "execution_count": 4,
     "metadata": {},
     "output_type": "execute_result"
    }
   ],
   "source": [
    "df_2007.columns"
   ]
  },
  {
   "cell_type": "code",
   "execution_count": 3,
   "metadata": {},
   "outputs": [
    {
     "data": {
      "text/html": [
       "<div>\n",
       "<table border=\"1\" class=\"dataframe\">\n",
       "  <thead>\n",
       "    <tr style=\"text-align: right;\">\n",
       "      <th></th>\n",
       "      <th>Year</th>\n",
       "      <th>Month</th>\n",
       "      <th>DayofMonth</th>\n",
       "      <th>DayOfWeek</th>\n",
       "      <th>DepTime</th>\n",
       "      <th>CRSDepTime</th>\n",
       "      <th>ArrTime</th>\n",
       "      <th>CRSArrTime</th>\n",
       "      <th>UniqueCarrier</th>\n",
       "      <th>FlightNum</th>\n",
       "      <th>...</th>\n",
       "      <th>TaxiIn</th>\n",
       "      <th>TaxiOut</th>\n",
       "      <th>Cancelled</th>\n",
       "      <th>CancellationCode</th>\n",
       "      <th>Diverted</th>\n",
       "      <th>CarrierDelay</th>\n",
       "      <th>WeatherDelay</th>\n",
       "      <th>NASDelay</th>\n",
       "      <th>SecurityDelay</th>\n",
       "      <th>LateAircraftDelay</th>\n",
       "    </tr>\n",
       "  </thead>\n",
       "  <tbody>\n",
       "    <tr>\n",
       "      <th>0</th>\n",
       "      <td>2007</td>\n",
       "      <td>1</td>\n",
       "      <td>1</td>\n",
       "      <td>1</td>\n",
       "      <td>1232.0</td>\n",
       "      <td>1225</td>\n",
       "      <td>1341.0</td>\n",
       "      <td>1340</td>\n",
       "      <td>WN</td>\n",
       "      <td>2891</td>\n",
       "      <td>...</td>\n",
       "      <td>4</td>\n",
       "      <td>11</td>\n",
       "      <td>0</td>\n",
       "      <td>NaN</td>\n",
       "      <td>0</td>\n",
       "      <td>0</td>\n",
       "      <td>0</td>\n",
       "      <td>0</td>\n",
       "      <td>0</td>\n",
       "      <td>0</td>\n",
       "    </tr>\n",
       "    <tr>\n",
       "      <th>1</th>\n",
       "      <td>2007</td>\n",
       "      <td>1</td>\n",
       "      <td>1</td>\n",
       "      <td>1</td>\n",
       "      <td>1918.0</td>\n",
       "      <td>1905</td>\n",
       "      <td>2043.0</td>\n",
       "      <td>2035</td>\n",
       "      <td>WN</td>\n",
       "      <td>462</td>\n",
       "      <td>...</td>\n",
       "      <td>5</td>\n",
       "      <td>6</td>\n",
       "      <td>0</td>\n",
       "      <td>NaN</td>\n",
       "      <td>0</td>\n",
       "      <td>0</td>\n",
       "      <td>0</td>\n",
       "      <td>0</td>\n",
       "      <td>0</td>\n",
       "      <td>0</td>\n",
       "    </tr>\n",
       "    <tr>\n",
       "      <th>2</th>\n",
       "      <td>2007</td>\n",
       "      <td>1</td>\n",
       "      <td>1</td>\n",
       "      <td>1</td>\n",
       "      <td>2206.0</td>\n",
       "      <td>2130</td>\n",
       "      <td>2334.0</td>\n",
       "      <td>2300</td>\n",
       "      <td>WN</td>\n",
       "      <td>1229</td>\n",
       "      <td>...</td>\n",
       "      <td>6</td>\n",
       "      <td>9</td>\n",
       "      <td>0</td>\n",
       "      <td>NaN</td>\n",
       "      <td>0</td>\n",
       "      <td>3</td>\n",
       "      <td>0</td>\n",
       "      <td>0</td>\n",
       "      <td>0</td>\n",
       "      <td>31</td>\n",
       "    </tr>\n",
       "    <tr>\n",
       "      <th>3</th>\n",
       "      <td>2007</td>\n",
       "      <td>1</td>\n",
       "      <td>1</td>\n",
       "      <td>1</td>\n",
       "      <td>1230.0</td>\n",
       "      <td>1200</td>\n",
       "      <td>1356.0</td>\n",
       "      <td>1330</td>\n",
       "      <td>WN</td>\n",
       "      <td>1355</td>\n",
       "      <td>...</td>\n",
       "      <td>3</td>\n",
       "      <td>8</td>\n",
       "      <td>0</td>\n",
       "      <td>NaN</td>\n",
       "      <td>0</td>\n",
       "      <td>23</td>\n",
       "      <td>0</td>\n",
       "      <td>0</td>\n",
       "      <td>0</td>\n",
       "      <td>3</td>\n",
       "    </tr>\n",
       "    <tr>\n",
       "      <th>4</th>\n",
       "      <td>2007</td>\n",
       "      <td>1</td>\n",
       "      <td>1</td>\n",
       "      <td>1</td>\n",
       "      <td>831.0</td>\n",
       "      <td>830</td>\n",
       "      <td>957.0</td>\n",
       "      <td>1000</td>\n",
       "      <td>WN</td>\n",
       "      <td>2278</td>\n",
       "      <td>...</td>\n",
       "      <td>3</td>\n",
       "      <td>9</td>\n",
       "      <td>0</td>\n",
       "      <td>NaN</td>\n",
       "      <td>0</td>\n",
       "      <td>0</td>\n",
       "      <td>0</td>\n",
       "      <td>0</td>\n",
       "      <td>0</td>\n",
       "      <td>0</td>\n",
       "    </tr>\n",
       "  </tbody>\n",
       "</table>\n",
       "<p>5 rows × 29 columns</p>\n",
       "</div>"
      ],
      "text/plain": [
       "   Year  Month  DayofMonth  DayOfWeek  DepTime  CRSDepTime  ArrTime  \\\n",
       "0  2007      1           1          1   1232.0        1225   1341.0   \n",
       "1  2007      1           1          1   1918.0        1905   2043.0   \n",
       "2  2007      1           1          1   2206.0        2130   2334.0   \n",
       "3  2007      1           1          1   1230.0        1200   1356.0   \n",
       "4  2007      1           1          1    831.0         830    957.0   \n",
       "\n",
       "   CRSArrTime UniqueCarrier  FlightNum        ...         TaxiIn  TaxiOut  \\\n",
       "0        1340            WN       2891        ...              4       11   \n",
       "1        2035            WN        462        ...              5        6   \n",
       "2        2300            WN       1229        ...              6        9   \n",
       "3        1330            WN       1355        ...              3        8   \n",
       "4        1000            WN       2278        ...              3        9   \n",
       "\n",
       "   Cancelled  CancellationCode  Diverted  CarrierDelay WeatherDelay NASDelay  \\\n",
       "0          0               NaN         0             0            0        0   \n",
       "1          0               NaN         0             0            0        0   \n",
       "2          0               NaN         0             3            0        0   \n",
       "3          0               NaN         0            23            0        0   \n",
       "4          0               NaN         0             0            0        0   \n",
       "\n",
       "   SecurityDelay  LateAircraftDelay  \n",
       "0              0                  0  \n",
       "1              0                  0  \n",
       "2              0                 31  \n",
       "3              0                  3  \n",
       "4              0                  0  \n",
       "\n",
       "[5 rows x 29 columns]"
      ]
     },
     "execution_count": 3,
     "metadata": {},
     "output_type": "execute_result"
    }
   ],
   "source": [
    "df_2007070707007.head()"
   ]
  },
  {
   "cell_type": "code",
   "execution_count": 4,
   "metadata": {},
   "outputs": [
    {
     "data": {
      "text/plain": [
       "Year                   int64\n",
       "Month                  int64\n",
       "DayofMonth             int64\n",
       "DayOfWeek              int64\n",
       "DepTime              float64\n",
       "CRSDepTime             int64\n",
       "ArrTime              float64\n",
       "CRSArrTime             int64\n",
       "UniqueCarrier         object\n",
       "FlightNum              int64\n",
       "TailNum               object\n",
       "ActualElapsedTime    float64\n",
       "CRSElapsedTime       float64\n",
       "AirTime              float64\n",
       "ArrDelay             float64\n",
       "DepDelay             float64\n",
       "Origin                object\n",
       "Dest                  object\n",
       "Distance               int64\n",
       "TaxiIn                 int64\n",
       "TaxiOut                int64\n",
       "Cancelled              int64\n",
       "CancellationCode      object\n",
       "Diverted               int64\n",
       "CarrierDelay           int64\n",
       "WeatherDelay           int64\n",
       "NASDelay               int64\n",
       "SecurityDelay          int64\n",
       "LateAircraftDelay      int64\n",
       "dtype: object"
      ]
     },
     "execution_count": 4,
     "metadata": {},
     "output_type": "execute_result"
    }
   ],
   "source": [
    "df_2007.dtypes"
   ]
  },
  {
   "cell_type": "code",
   "execution_count": 5,
   "metadata": {},
   "outputs": [
    {
     "data": {
      "text/html": [
       "<div>\n",
       "<table border=\"1\" class=\"dataframe\">\n",
       "  <thead>\n",
       "    <tr style=\"text-align: right;\">\n",
       "      <th></th>\n",
       "      <th>Year</th>\n",
       "      <th>Month</th>\n",
       "      <th>DayofMonth</th>\n",
       "      <th>DayOfWeek</th>\n",
       "      <th>DepTime</th>\n",
       "      <th>CRSDepTime</th>\n",
       "      <th>ArrTime</th>\n",
       "      <th>CRSArrTime</th>\n",
       "      <th>FlightNum</th>\n",
       "      <th>ActualElapsedTime</th>\n",
       "      <th>...</th>\n",
       "      <th>Distance</th>\n",
       "      <th>TaxiIn</th>\n",
       "      <th>TaxiOut</th>\n",
       "      <th>Cancelled</th>\n",
       "      <th>Diverted</th>\n",
       "      <th>CarrierDelay</th>\n",
       "      <th>WeatherDelay</th>\n",
       "      <th>NASDelay</th>\n",
       "      <th>SecurityDelay</th>\n",
       "      <th>LateAircraftDelay</th>\n",
       "    </tr>\n",
       "  </thead>\n",
       "  <tbody>\n",
       "    <tr>\n",
       "      <th>count</th>\n",
       "      <td>7453215.0</td>\n",
       "      <td>7.453215e+06</td>\n",
       "      <td>7.453215e+06</td>\n",
       "      <td>7.453215e+06</td>\n",
       "      <td>7.292467e+06</td>\n",
       "      <td>7.453215e+06</td>\n",
       "      <td>7.275288e+06</td>\n",
       "      <td>7.453215e+06</td>\n",
       "      <td>7.453215e+06</td>\n",
       "      <td>7.275288e+06</td>\n",
       "      <td>...</td>\n",
       "      <td>7.453215e+06</td>\n",
       "      <td>7.453215e+06</td>\n",
       "      <td>7.453215e+06</td>\n",
       "      <td>7.453215e+06</td>\n",
       "      <td>7.453215e+06</td>\n",
       "      <td>7.453215e+06</td>\n",
       "      <td>7.453215e+06</td>\n",
       "      <td>7.453215e+06</td>\n",
       "      <td>7.453215e+06</td>\n",
       "      <td>7.453215e+06</td>\n",
       "    </tr>\n",
       "    <tr>\n",
       "      <th>mean</th>\n",
       "      <td>2007.0</td>\n",
       "      <td>6.514876e+00</td>\n",
       "      <td>1.572589e+01</td>\n",
       "      <td>3.933804e+00</td>\n",
       "      <td>1.339221e+03</td>\n",
       "      <td>1.330596e+03</td>\n",
       "      <td>1.482105e+03</td>\n",
       "      <td>1.495392e+03</td>\n",
       "      <td>2.188099e+03</td>\n",
       "      <td>1.263223e+02</td>\n",
       "      <td>...</td>\n",
       "      <td>7.198058e+02</td>\n",
       "      <td>6.691984e+00</td>\n",
       "      <td>1.630015e+01</td>\n",
       "      <td>2.156761e-02</td>\n",
       "      <td>2.304911e-03</td>\n",
       "      <td>3.865236e+00</td>\n",
       "      <td>7.700904e-01</td>\n",
       "      <td>3.783702e+00</td>\n",
       "      <td>2.373553e-02</td>\n",
       "      <td>5.099134e+00</td>\n",
       "    </tr>\n",
       "    <tr>\n",
       "      <th>std</th>\n",
       "      <td>0.0</td>\n",
       "      <td>3.425117e+00</td>\n",
       "      <td>8.781154e+00</td>\n",
       "      <td>1.992267e+00</td>\n",
       "      <td>4.798528e+02</td>\n",
       "      <td>4.647080e+02</td>\n",
       "      <td>5.072241e+02</td>\n",
       "      <td>4.815902e+02</td>\n",
       "      <td>1.971958e+03</td>\n",
       "      <td>7.118009e+01</td>\n",
       "      <td>...</td>\n",
       "      <td>5.623051e+02</td>\n",
       "      <td>5.151351e+00</td>\n",
       "      <td>1.183396e+01</td>\n",
       "      <td>1.452668e-01</td>\n",
       "      <td>4.795413e-02</td>\n",
       "      <td>2.084240e+01</td>\n",
       "      <td>9.619547e+00</td>\n",
       "      <td>1.617670e+01</td>\n",
       "      <td>1.084995e+00</td>\n",
       "      <td>2.127753e+01</td>\n",
       "    </tr>\n",
       "    <tr>\n",
       "      <th>min</th>\n",
       "      <td>2007.0</td>\n",
       "      <td>1.000000e+00</td>\n",
       "      <td>1.000000e+00</td>\n",
       "      <td>1.000000e+00</td>\n",
       "      <td>1.000000e+00</td>\n",
       "      <td>0.000000e+00</td>\n",
       "      <td>1.000000e+00</td>\n",
       "      <td>0.000000e+00</td>\n",
       "      <td>1.000000e+00</td>\n",
       "      <td>1.200000e+01</td>\n",
       "      <td>...</td>\n",
       "      <td>1.100000e+01</td>\n",
       "      <td>0.000000e+00</td>\n",
       "      <td>0.000000e+00</td>\n",
       "      <td>0.000000e+00</td>\n",
       "      <td>0.000000e+00</td>\n",
       "      <td>0.000000e+00</td>\n",
       "      <td>0.000000e+00</td>\n",
       "      <td>0.000000e+00</td>\n",
       "      <td>0.000000e+00</td>\n",
       "      <td>0.000000e+00</td>\n",
       "    </tr>\n",
       "    <tr>\n",
       "      <th>25%</th>\n",
       "      <td>2007.0</td>\n",
       "      <td>4.000000e+00</td>\n",
       "      <td>8.000000e+00</td>\n",
       "      <td>2.000000e+00</td>\n",
       "      <td>9.300000e+02</td>\n",
       "      <td>9.300000e+02</td>\n",
       "      <td>1.107000e+03</td>\n",
       "      <td>1.115000e+03</td>\n",
       "      <td>5.900000e+02</td>\n",
       "      <td>7.600000e+01</td>\n",
       "      <td>...</td>\n",
       "      <td>3.190000e+02</td>\n",
       "      <td>4.000000e+00</td>\n",
       "      <td>1.000000e+01</td>\n",
       "      <td>0.000000e+00</td>\n",
       "      <td>0.000000e+00</td>\n",
       "      <td>0.000000e+00</td>\n",
       "      <td>0.000000e+00</td>\n",
       "      <td>0.000000e+00</td>\n",
       "      <td>0.000000e+00</td>\n",
       "      <td>0.000000e+00</td>\n",
       "    </tr>\n",
       "    <tr>\n",
       "      <th>50%</th>\n",
       "      <td>2007.0</td>\n",
       "      <td>7.000000e+00</td>\n",
       "      <td>1.600000e+01</td>\n",
       "      <td>4.000000e+00</td>\n",
       "      <td>1.329000e+03</td>\n",
       "      <td>1.322000e+03</td>\n",
       "      <td>1.513000e+03</td>\n",
       "      <td>1.520000e+03</td>\n",
       "      <td>1.509000e+03</td>\n",
       "      <td>1.080000e+02</td>\n",
       "      <td>...</td>\n",
       "      <td>5.690000e+02</td>\n",
       "      <td>5.000000e+00</td>\n",
       "      <td>1.400000e+01</td>\n",
       "      <td>0.000000e+00</td>\n",
       "      <td>0.000000e+00</td>\n",
       "      <td>0.000000e+00</td>\n",
       "      <td>0.000000e+00</td>\n",
       "      <td>0.000000e+00</td>\n",
       "      <td>0.000000e+00</td>\n",
       "      <td>0.000000e+00</td>\n",
       "    </tr>\n",
       "    <tr>\n",
       "      <th>75%</th>\n",
       "      <td>2007.0</td>\n",
       "      <td>9.000000e+00</td>\n",
       "      <td>2.300000e+01</td>\n",
       "      <td>6.000000e+00</td>\n",
       "      <td>1.733000e+03</td>\n",
       "      <td>1.720000e+03</td>\n",
       "      <td>1.911000e+03</td>\n",
       "      <td>1.906000e+03</td>\n",
       "      <td>3.553000e+03</td>\n",
       "      <td>1.560000e+02</td>\n",
       "      <td>...</td>\n",
       "      <td>9.460000e+02</td>\n",
       "      <td>8.000000e+00</td>\n",
       "      <td>1.900000e+01</td>\n",
       "      <td>0.000000e+00</td>\n",
       "      <td>0.000000e+00</td>\n",
       "      <td>0.000000e+00</td>\n",
       "      <td>0.000000e+00</td>\n",
       "      <td>0.000000e+00</td>\n",
       "      <td>0.000000e+00</td>\n",
       "      <td>0.000000e+00</td>\n",
       "    </tr>\n",
       "    <tr>\n",
       "      <th>max</th>\n",
       "      <td>2007.0</td>\n",
       "      <td>1.200000e+01</td>\n",
       "      <td>3.100000e+01</td>\n",
       "      <td>7.000000e+00</td>\n",
       "      <td>2.400000e+03</td>\n",
       "      <td>2.359000e+03</td>\n",
       "      <td>2.400000e+03</td>\n",
       "      <td>2.400000e+03</td>\n",
       "      <td>9.602000e+03</td>\n",
       "      <td>1.270000e+03</td>\n",
       "      <td>...</td>\n",
       "      <td>4.962000e+03</td>\n",
       "      <td>5.450000e+02</td>\n",
       "      <td>5.300000e+02</td>\n",
       "      <td>1.000000e+00</td>\n",
       "      <td>1.000000e+00</td>\n",
       "      <td>2.580000e+03</td>\n",
       "      <td>1.429000e+03</td>\n",
       "      <td>1.386000e+03</td>\n",
       "      <td>3.820000e+02</td>\n",
       "      <td>1.031000e+03</td>\n",
       "    </tr>\n",
       "  </tbody>\n",
       "</table>\n",
       "<p>8 rows × 24 columns</p>\n",
       "</div>"
      ],
      "text/plain": [
       "            Year         Month    DayofMonth     DayOfWeek       DepTime  \\\n",
       "count  7453215.0  7.453215e+06  7.453215e+06  7.453215e+06  7.292467e+06   \n",
       "mean      2007.0  6.514876e+00  1.572589e+01  3.933804e+00  1.339221e+03   \n",
       "std          0.0  3.425117e+00  8.781154e+00  1.992267e+00  4.798528e+02   \n",
       "min       2007.0  1.000000e+00  1.000000e+00  1.000000e+00  1.000000e+00   \n",
       "25%       2007.0  4.000000e+00  8.000000e+00  2.000000e+00  9.300000e+02   \n",
       "50%       2007.0  7.000000e+00  1.600000e+01  4.000000e+00  1.329000e+03   \n",
       "75%       2007.0  9.000000e+00  2.300000e+01  6.000000e+00  1.733000e+03   \n",
       "max       2007.0  1.200000e+01  3.100000e+01  7.000000e+00  2.400000e+03   \n",
       "\n",
       "         CRSDepTime       ArrTime    CRSArrTime     FlightNum  \\\n",
       "count  7.453215e+06  7.275288e+06  7.453215e+06  7.453215e+06   \n",
       "mean   1.330596e+03  1.482105e+03  1.495392e+03  2.188099e+03   \n",
       "std    4.647080e+02  5.072241e+02  4.815902e+02  1.971958e+03   \n",
       "min    0.000000e+00  1.000000e+00  0.000000e+00  1.000000e+00   \n",
       "25%    9.300000e+02  1.107000e+03  1.115000e+03  5.900000e+02   \n",
       "50%    1.322000e+03  1.513000e+03  1.520000e+03  1.509000e+03   \n",
       "75%    1.720000e+03  1.911000e+03  1.906000e+03  3.553000e+03   \n",
       "max    2.359000e+03  2.400000e+03  2.400000e+03  9.602000e+03   \n",
       "\n",
       "       ActualElapsedTime        ...              Distance        TaxiIn  \\\n",
       "count       7.275288e+06        ...          7.453215e+06  7.453215e+06   \n",
       "mean        1.263223e+02        ...          7.198058e+02  6.691984e+00   \n",
       "std         7.118009e+01        ...          5.623051e+02  5.151351e+00   \n",
       "min         1.200000e+01        ...          1.100000e+01  0.000000e+00   \n",
       "25%         7.600000e+01        ...          3.190000e+02  4.000000e+00   \n",
       "50%         1.080000e+02        ...          5.690000e+02  5.000000e+00   \n",
       "75%         1.560000e+02        ...          9.460000e+02  8.000000e+00   \n",
       "max         1.270000e+03        ...          4.962000e+03  5.450000e+02   \n",
       "\n",
       "            TaxiOut     Cancelled      Diverted  CarrierDelay  WeatherDelay  \\\n",
       "count  7.453215e+06  7.453215e+06  7.453215e+06  7.453215e+06  7.453215e+06   \n",
       "mean   1.630015e+01  2.156761e-02  2.304911e-03  3.865236e+00  7.700904e-01   \n",
       "std    1.183396e+01  1.452668e-01  4.795413e-02  2.084240e+01  9.619547e+00   \n",
       "min    0.000000e+00  0.000000e+00  0.000000e+00  0.000000e+00  0.000000e+00   \n",
       "25%    1.000000e+01  0.000000e+00  0.000000e+00  0.000000e+00  0.000000e+00   \n",
       "50%    1.400000e+01  0.000000e+00  0.000000e+00  0.000000e+00  0.000000e+00   \n",
       "75%    1.900000e+01  0.000000e+00  0.000000e+00  0.000000e+00  0.000000e+00   \n",
       "max    5.300000e+02  1.000000e+00  1.000000e+00  2.580000e+03  1.429000e+03   \n",
       "\n",
       "           NASDelay  SecurityDelay  LateAircraftDelay  \n",
       "count  7.453215e+06   7.453215e+06       7.453215e+06  \n",
       "mean   3.783702e+00   2.373553e-02       5.099134e+00  \n",
       "std    1.617670e+01   1.084995e+00       2.127753e+01  \n",
       "min    0.000000e+00   0.000000e+00       0.000000e+00  \n",
       "25%    0.000000e+00   0.000000e+00       0.000000e+00  \n",
       "50%    0.000000e+00   0.000000e+00       0.000000e+00  \n",
       "75%    0.000000e+00   0.000000e+00       0.000000e+00  \n",
       "max    1.386000e+03   3.820000e+02       1.031000e+03  \n",
       "\n",
       "[8 rows x 24 columns]"
      ]
     },
     "execution_count": 5,
     "metadata": {},
     "output_type": "execute_result"
    }
   ],
   "source": [
    "df_2007.describe()"
   ]
  },
  {
   "cell_type": "code",
   "execution_count": 7,
   "metadata": {},
   "outputs": [
    {
     "data": {
      "text/plain": [
       "(7453215, 29)"
      ]
     },
     "execution_count": 7,
     "metadata": {},
     "output_type": "execute_result"
    }
   ],
   "source": [
    "df_2007.shape"
   ]
  },
  {
   "cell_type": "code",
   "execution_count": 165,
   "metadata": {
    "collapsed": true
   },
   "outputs": [],
   "source": [
    "filename = \"2007.csv\"\n",
    "n = sum(1 for line in open(filename)) - 1 #number of records in file (excludes header)\n",
    "s = 100000 #desired sample size\n",
    "skip = sorted(random.sample(xrange(1,n+1),n-s)) #the 0-indexed header will not be included in the skip list\n",
    "df2007 = pd.read_csv(filename, skiprows=skip)"
   ]
  },
  {
   "cell_type": "code",
   "execution_count": 166,
   "metadata": {
    "collapsed": true
   },
   "outputs": [],
   "source": [
    "filename = \"2008.csv\"\n",
    "n = sum(1 for line in open(filename)) - 1 #number of records in file (excludes header)\n",
    "s = 100000 #desired sample size\n",
    "skip = sorted(random.sample(xrange(1,n+1),n-s)) #the 0-indexed header will not be included in the skip list\n",
    "df2008 = pd.read_csv(filename, skiprows=skip)"
   ]
  },
  {
   "cell_type": "code",
   "execution_count": 167,
   "metadata": {},
   "outputs": [
    {
     "data": {
      "text/plain": [
       "((100000, 29), (100000, 29))"
      ]
     },
     "execution_count": 167,
     "metadata": {},
     "output_type": "execute_result"
    }
   ],
   "source": [
    "df2007.shape , df2008.shape"
   ]
  },
  {
   "cell_type": "code",
   "execution_count": 168,
   "metadata": {},
   "outputs": [],
   "source": [
    "df= pd.concat([df2007,df2008],axis=0)"
   ]
  },
  {
   "cell_type": "code",
   "execution_count": 169,
   "metadata": {},
   "outputs": [
    {
     "data": {
      "text/plain": [
       "(200000, 29)"
      ]
     },
     "execution_count": 169,
     "metadata": {},
     "output_type": "execute_result"
    }
   ],
   "source": [
    "df.shape"
   ]
  },
  {
   "cell_type": "code",
   "execution_count": 170,
   "metadata": {},
   "outputs": [
    {
     "data": {
      "text/html": [
       "<div>\n",
       "<table border=\"1\" class=\"dataframe\">\n",
       "  <thead>\n",
       "    <tr style=\"text-align: right;\">\n",
       "      <th></th>\n",
       "      <th>Year</th>\n",
       "      <th>Month</th>\n",
       "      <th>DayofMonth</th>\n",
       "      <th>DayOfWeek</th>\n",
       "      <th>DepTime</th>\n",
       "      <th>CRSDepTime</th>\n",
       "      <th>ArrTime</th>\n",
       "      <th>CRSArrTime</th>\n",
       "      <th>UniqueCarrier</th>\n",
       "      <th>FlightNum</th>\n",
       "      <th>...</th>\n",
       "      <th>TaxiIn</th>\n",
       "      <th>TaxiOut</th>\n",
       "      <th>Cancelled</th>\n",
       "      <th>CancellationCode</th>\n",
       "      <th>Diverted</th>\n",
       "      <th>CarrierDelay</th>\n",
       "      <th>WeatherDelay</th>\n",
       "      <th>NASDelay</th>\n",
       "      <th>SecurityDelay</th>\n",
       "      <th>LateAircraftDelay</th>\n",
       "    </tr>\n",
       "  </thead>\n",
       "  <tbody>\n",
       "    <tr>\n",
       "      <th>0</th>\n",
       "      <td>2007</td>\n",
       "      <td>1</td>\n",
       "      <td>1</td>\n",
       "      <td>1</td>\n",
       "      <td>1638.0</td>\n",
       "      <td>1640</td>\n",
       "      <td>1749.0</td>\n",
       "      <td>1755</td>\n",
       "      <td>WN</td>\n",
       "      <td>2299</td>\n",
       "      <td>...</td>\n",
       "      <td>4.0</td>\n",
       "      <td>6.0</td>\n",
       "      <td>0</td>\n",
       "      <td>NaN</td>\n",
       "      <td>0</td>\n",
       "      <td>0.0</td>\n",
       "      <td>0.0</td>\n",
       "      <td>0.0</td>\n",
       "      <td>0.0</td>\n",
       "      <td>0.0</td>\n",
       "    </tr>\n",
       "    <tr>\n",
       "      <th>1</th>\n",
       "      <td>2007</td>\n",
       "      <td>1</td>\n",
       "      <td>1</td>\n",
       "      <td>1</td>\n",
       "      <td>1447.0</td>\n",
       "      <td>1435</td>\n",
       "      <td>1504.0</td>\n",
       "      <td>1505</td>\n",
       "      <td>WN</td>\n",
       "      <td>165</td>\n",
       "      <td>...</td>\n",
       "      <td>6.0</td>\n",
       "      <td>6.0</td>\n",
       "      <td>0</td>\n",
       "      <td>NaN</td>\n",
       "      <td>0</td>\n",
       "      <td>0.0</td>\n",
       "      <td>0.0</td>\n",
       "      <td>0.0</td>\n",
       "      <td>0.0</td>\n",
       "      <td>0.0</td>\n",
       "    </tr>\n",
       "    <tr>\n",
       "      <th>2</th>\n",
       "      <td>2007</td>\n",
       "      <td>1</td>\n",
       "      <td>2</td>\n",
       "      <td>2</td>\n",
       "      <td>1000.0</td>\n",
       "      <td>1000</td>\n",
       "      <td>1402.0</td>\n",
       "      <td>1405</td>\n",
       "      <td>WN</td>\n",
       "      <td>1359</td>\n",
       "      <td>...</td>\n",
       "      <td>8.0</td>\n",
       "      <td>13.0</td>\n",
       "      <td>0</td>\n",
       "      <td>NaN</td>\n",
       "      <td>0</td>\n",
       "      <td>0.0</td>\n",
       "      <td>0.0</td>\n",
       "      <td>0.0</td>\n",
       "      <td>0.0</td>\n",
       "      <td>0.0</td>\n",
       "    </tr>\n",
       "    <tr>\n",
       "      <th>3</th>\n",
       "      <td>2007</td>\n",
       "      <td>1</td>\n",
       "      <td>2</td>\n",
       "      <td>2</td>\n",
       "      <td>953.0</td>\n",
       "      <td>955</td>\n",
       "      <td>1036.0</td>\n",
       "      <td>1050</td>\n",
       "      <td>WN</td>\n",
       "      <td>906</td>\n",
       "      <td>...</td>\n",
       "      <td>2.0</td>\n",
       "      <td>7.0</td>\n",
       "      <td>0</td>\n",
       "      <td>NaN</td>\n",
       "      <td>0</td>\n",
       "      <td>0.0</td>\n",
       "      <td>0.0</td>\n",
       "      <td>0.0</td>\n",
       "      <td>0.0</td>\n",
       "      <td>0.0</td>\n",
       "    </tr>\n",
       "    <tr>\n",
       "      <th>4</th>\n",
       "      <td>2007</td>\n",
       "      <td>1</td>\n",
       "      <td>2</td>\n",
       "      <td>2</td>\n",
       "      <td>629.0</td>\n",
       "      <td>630</td>\n",
       "      <td>726.0</td>\n",
       "      <td>720</td>\n",
       "      <td>WN</td>\n",
       "      <td>2283</td>\n",
       "      <td>...</td>\n",
       "      <td>3.0</td>\n",
       "      <td>20.0</td>\n",
       "      <td>0</td>\n",
       "      <td>NaN</td>\n",
       "      <td>0</td>\n",
       "      <td>0.0</td>\n",
       "      <td>0.0</td>\n",
       "      <td>0.0</td>\n",
       "      <td>0.0</td>\n",
       "      <td>0.0</td>\n",
       "    </tr>\n",
       "  </tbody>\n",
       "</table>\n",
       "<p>5 rows × 29 columns</p>\n",
       "</div>"
      ],
      "text/plain": [
       "   Year  Month  DayofMonth  DayOfWeek  DepTime  CRSDepTime  ArrTime  \\\n",
       "0  2007      1           1          1   1638.0        1640   1749.0   \n",
       "1  2007      1           1          1   1447.0        1435   1504.0   \n",
       "2  2007      1           2          2   1000.0        1000   1402.0   \n",
       "3  2007      1           2          2    953.0         955   1036.0   \n",
       "4  2007      1           2          2    629.0         630    726.0   \n",
       "\n",
       "   CRSArrTime UniqueCarrier  FlightNum        ...         TaxiIn  TaxiOut  \\\n",
       "0        1755            WN       2299        ...            4.0      6.0   \n",
       "1        1505            WN        165        ...            6.0      6.0   \n",
       "2        1405            WN       1359        ...            8.0     13.0   \n",
       "3        1050            WN        906        ...            2.0      7.0   \n",
       "4         720            WN       2283        ...            3.0     20.0   \n",
       "\n",
       "   Cancelled  CancellationCode  Diverted  CarrierDelay WeatherDelay NASDelay  \\\n",
       "0          0               NaN         0           0.0          0.0      0.0   \n",
       "1          0               NaN         0           0.0          0.0      0.0   \n",
       "2          0               NaN         0           0.0          0.0      0.0   \n",
       "3          0               NaN         0           0.0          0.0      0.0   \n",
       "4          0               NaN         0           0.0          0.0      0.0   \n",
       "\n",
       "   SecurityDelay  LateAircraftDelay  \n",
       "0            0.0                0.0  \n",
       "1            0.0                0.0  \n",
       "2            0.0                0.0  \n",
       "3            0.0                0.0  \n",
       "4            0.0                0.0  \n",
       "\n",
       "[5 rows x 29 columns]"
      ]
     },
     "execution_count": 170,
     "metadata": {},
     "output_type": "execute_result"
    }
   ],
   "source": [
    "df.head()"
   ]
  },
  {
   "cell_type": "code",
   "execution_count": 171,
   "metadata": {},
   "outputs": [
    {
     "data": {
      "text/plain": [
       "Index([u'Year', u'Month', u'DayofMonth', u'DayOfWeek', u'DepTime',\n",
       "       u'CRSDepTime', u'ArrTime', u'CRSArrTime', u'UniqueCarrier',\n",
       "       u'FlightNum', u'TailNum', u'ActualElapsedTime', u'CRSElapsedTime',\n",
       "       u'AirTime', u'ArrDelay', u'DepDelay', u'Origin', u'Dest', u'Distance',\n",
       "       u'TaxiIn', u'TaxiOut', u'Cancelled', u'CancellationCode', u'Diverted',\n",
       "       u'CarrierDelay', u'WeatherDelay', u'NASDelay', u'SecurityDelay',\n",
       "       u'LateAircraftDelay'],\n",
       "      dtype='object')"
      ]
     },
     "execution_count": 171,
     "metadata": {},
     "output_type": "execute_result"
    }
   ],
   "source": [
    "df.columns"
   ]
  },
  {
   "cell_type": "code",
   "execution_count": 172,
   "metadata": {},
   "outputs": [
    {
     "data": {
      "text/html": [
       "<div>\n",
       "<table border=\"1\" class=\"dataframe\">\n",
       "  <thead>\n",
       "    <tr style=\"text-align: right;\">\n",
       "      <th></th>\n",
       "      <th>Year</th>\n",
       "      <th>Month</th>\n",
       "      <th>DayofMonth</th>\n",
       "      <th>DayOfWeek</th>\n",
       "      <th>DepTime</th>\n",
       "      <th>CRSDepTime</th>\n",
       "      <th>ArrTime</th>\n",
       "      <th>CRSArrTime</th>\n",
       "      <th>FlightNum</th>\n",
       "      <th>ActualElapsedTime</th>\n",
       "      <th>...</th>\n",
       "      <th>Distance</th>\n",
       "      <th>TaxiIn</th>\n",
       "      <th>TaxiOut</th>\n",
       "      <th>Cancelled</th>\n",
       "      <th>Diverted</th>\n",
       "      <th>CarrierDelay</th>\n",
       "      <th>WeatherDelay</th>\n",
       "      <th>NASDelay</th>\n",
       "      <th>SecurityDelay</th>\n",
       "      <th>LateAircraftDelay</th>\n",
       "    </tr>\n",
       "  </thead>\n",
       "  <tbody>\n",
       "    <tr>\n",
       "      <th>count</th>\n",
       "      <td>200000.000000</td>\n",
       "      <td>200000.000000</td>\n",
       "      <td>200000.000000</td>\n",
       "      <td>200000.000000</td>\n",
       "      <td>195844.000000</td>\n",
       "      <td>200000.000000</td>\n",
       "      <td>195397.000000</td>\n",
       "      <td>200000.000000</td>\n",
       "      <td>200000.000000</td>\n",
       "      <td>195349.000000</td>\n",
       "      <td>...</td>\n",
       "      <td>200000.00000</td>\n",
       "      <td>197741.000000</td>\n",
       "      <td>197969.000000</td>\n",
       "      <td>200000.000000</td>\n",
       "      <td>200000.000000</td>\n",
       "      <td>121678.000000</td>\n",
       "      <td>121678.000000</td>\n",
       "      <td>121678.000000</td>\n",
       "      <td>121678.000000</td>\n",
       "      <td>121678.000000</td>\n",
       "    </tr>\n",
       "    <tr>\n",
       "      <th>mean</th>\n",
       "      <td>2007.500000</td>\n",
       "      <td>6.439295</td>\n",
       "      <td>15.750050</td>\n",
       "      <td>3.923730</td>\n",
       "      <td>1337.227548</td>\n",
       "      <td>1329.318010</td>\n",
       "      <td>1482.345752</td>\n",
       "      <td>1496.093760</td>\n",
       "      <td>2209.002625</td>\n",
       "      <td>126.854399</td>\n",
       "      <td>...</td>\n",
       "      <td>722.88374</td>\n",
       "      <td>6.774872</td>\n",
       "      <td>16.390172</td>\n",
       "      <td>0.020890</td>\n",
       "      <td>0.002365</td>\n",
       "      <td>5.999269</td>\n",
       "      <td>1.181504</td>\n",
       "      <td>6.164985</td>\n",
       "      <td>0.029833</td>\n",
       "      <td>7.880874</td>\n",
       "    </tr>\n",
       "    <tr>\n",
       "      <th>std</th>\n",
       "      <td>0.500001</td>\n",
       "      <td>3.416030</td>\n",
       "      <td>8.791503</td>\n",
       "      <td>1.991811</td>\n",
       "      <td>478.652103</td>\n",
       "      <td>464.279128</td>\n",
       "      <td>506.270076</td>\n",
       "      <td>482.143813</td>\n",
       "      <td>1972.309941</td>\n",
       "      <td>70.474125</td>\n",
       "      <td>...</td>\n",
       "      <td>560.75605</td>\n",
       "      <td>5.025701</td>\n",
       "      <td>11.588986</td>\n",
       "      <td>0.143016</td>\n",
       "      <td>0.048574</td>\n",
       "      <td>26.057501</td>\n",
       "      <td>12.235605</td>\n",
       "      <td>20.352175</td>\n",
       "      <td>1.004145</td>\n",
       "      <td>25.954718</td>\n",
       "    </tr>\n",
       "    <tr>\n",
       "      <th>min</th>\n",
       "      <td>2007.000000</td>\n",
       "      <td>1.000000</td>\n",
       "      <td>1.000000</td>\n",
       "      <td>1.000000</td>\n",
       "      <td>1.000000</td>\n",
       "      <td>1.000000</td>\n",
       "      <td>1.000000</td>\n",
       "      <td>1.000000</td>\n",
       "      <td>1.000000</td>\n",
       "      <td>18.000000</td>\n",
       "      <td>...</td>\n",
       "      <td>11.00000</td>\n",
       "      <td>0.000000</td>\n",
       "      <td>0.000000</td>\n",
       "      <td>0.000000</td>\n",
       "      <td>0.000000</td>\n",
       "      <td>0.000000</td>\n",
       "      <td>0.000000</td>\n",
       "      <td>0.000000</td>\n",
       "      <td>0.000000</td>\n",
       "      <td>0.000000</td>\n",
       "    </tr>\n",
       "    <tr>\n",
       "      <th>25%</th>\n",
       "      <td>2007.000000</td>\n",
       "      <td>3.000000</td>\n",
       "      <td>8.000000</td>\n",
       "      <td>2.000000</td>\n",
       "      <td>929.000000</td>\n",
       "      <td>930.000000</td>\n",
       "      <td>1107.000000</td>\n",
       "      <td>1115.000000</td>\n",
       "      <td>605.000000</td>\n",
       "      <td>76.000000</td>\n",
       "      <td>...</td>\n",
       "      <td>324.00000</td>\n",
       "      <td>4.000000</td>\n",
       "      <td>10.000000</td>\n",
       "      <td>0.000000</td>\n",
       "      <td>0.000000</td>\n",
       "      <td>0.000000</td>\n",
       "      <td>0.000000</td>\n",
       "      <td>0.000000</td>\n",
       "      <td>0.000000</td>\n",
       "      <td>0.000000</td>\n",
       "    </tr>\n",
       "    <tr>\n",
       "      <th>50%</th>\n",
       "      <td>2007.500000</td>\n",
       "      <td>6.000000</td>\n",
       "      <td>16.000000</td>\n",
       "      <td>4.000000</td>\n",
       "      <td>1328.000000</td>\n",
       "      <td>1322.000000</td>\n",
       "      <td>1513.000000</td>\n",
       "      <td>1520.000000</td>\n",
       "      <td>1540.000000</td>\n",
       "      <td>109.000000</td>\n",
       "      <td>...</td>\n",
       "      <td>576.00000</td>\n",
       "      <td>6.000000</td>\n",
       "      <td>14.000000</td>\n",
       "      <td>0.000000</td>\n",
       "      <td>0.000000</td>\n",
       "      <td>0.000000</td>\n",
       "      <td>0.000000</td>\n",
       "      <td>0.000000</td>\n",
       "      <td>0.000000</td>\n",
       "      <td>0.000000</td>\n",
       "    </tr>\n",
       "    <tr>\n",
       "      <th>75%</th>\n",
       "      <td>2008.000000</td>\n",
       "      <td>9.000000</td>\n",
       "      <td>23.000000</td>\n",
       "      <td>6.000000</td>\n",
       "      <td>1730.000000</td>\n",
       "      <td>1720.000000</td>\n",
       "      <td>1910.000000</td>\n",
       "      <td>1907.000000</td>\n",
       "      <td>3549.000000</td>\n",
       "      <td>157.000000</td>\n",
       "      <td>...</td>\n",
       "      <td>948.00000</td>\n",
       "      <td>8.000000</td>\n",
       "      <td>19.000000</td>\n",
       "      <td>0.000000</td>\n",
       "      <td>0.000000</td>\n",
       "      <td>0.000000</td>\n",
       "      <td>0.000000</td>\n",
       "      <td>0.000000</td>\n",
       "      <td>0.000000</td>\n",
       "      <td>0.000000</td>\n",
       "    </tr>\n",
       "    <tr>\n",
       "      <th>max</th>\n",
       "      <td>2008.000000</td>\n",
       "      <td>12.000000</td>\n",
       "      <td>31.000000</td>\n",
       "      <td>7.000000</td>\n",
       "      <td>2400.000000</td>\n",
       "      <td>2359.000000</td>\n",
       "      <td>2400.000000</td>\n",
       "      <td>2400.000000</td>\n",
       "      <td>9601.000000</td>\n",
       "      <td>686.000000</td>\n",
       "      <td>...</td>\n",
       "      <td>4962.00000</td>\n",
       "      <td>199.000000</td>\n",
       "      <td>383.000000</td>\n",
       "      <td>1.000000</td>\n",
       "      <td>1.000000</td>\n",
       "      <td>1072.000000</td>\n",
       "      <td>893.000000</td>\n",
       "      <td>655.000000</td>\n",
       "      <td>135.000000</td>\n",
       "      <td>546.000000</td>\n",
       "    </tr>\n",
       "  </tbody>\n",
       "</table>\n",
       "<p>8 rows × 24 columns</p>\n",
       "</div>"
      ],
      "text/plain": [
       "                Year          Month     DayofMonth      DayOfWeek  \\\n",
       "count  200000.000000  200000.000000  200000.000000  200000.000000   \n",
       "mean     2007.500000       6.439295      15.750050       3.923730   \n",
       "std         0.500001       3.416030       8.791503       1.991811   \n",
       "min      2007.000000       1.000000       1.000000       1.000000   \n",
       "25%      2007.000000       3.000000       8.000000       2.000000   \n",
       "50%      2007.500000       6.000000      16.000000       4.000000   \n",
       "75%      2008.000000       9.000000      23.000000       6.000000   \n",
       "max      2008.000000      12.000000      31.000000       7.000000   \n",
       "\n",
       "             DepTime     CRSDepTime        ArrTime     CRSArrTime  \\\n",
       "count  195844.000000  200000.000000  195397.000000  200000.000000   \n",
       "mean     1337.227548    1329.318010    1482.345752    1496.093760   \n",
       "std       478.652103     464.279128     506.270076     482.143813   \n",
       "min         1.000000       1.000000       1.000000       1.000000   \n",
       "25%       929.000000     930.000000    1107.000000    1115.000000   \n",
       "50%      1328.000000    1322.000000    1513.000000    1520.000000   \n",
       "75%      1730.000000    1720.000000    1910.000000    1907.000000   \n",
       "max      2400.000000    2359.000000    2400.000000    2400.000000   \n",
       "\n",
       "           FlightNum  ActualElapsedTime        ...              Distance  \\\n",
       "count  200000.000000      195349.000000        ...          200000.00000   \n",
       "mean     2209.002625         126.854399        ...             722.88374   \n",
       "std      1972.309941          70.474125        ...             560.75605   \n",
       "min         1.000000          18.000000        ...              11.00000   \n",
       "25%       605.000000          76.000000        ...             324.00000   \n",
       "50%      1540.000000         109.000000        ...             576.00000   \n",
       "75%      3549.000000         157.000000        ...             948.00000   \n",
       "max      9601.000000         686.000000        ...            4962.00000   \n",
       "\n",
       "              TaxiIn        TaxiOut      Cancelled       Diverted  \\\n",
       "count  197741.000000  197969.000000  200000.000000  200000.000000   \n",
       "mean        6.774872      16.390172       0.020890       0.002365   \n",
       "std         5.025701      11.588986       0.143016       0.048574   \n",
       "min         0.000000       0.000000       0.000000       0.000000   \n",
       "25%         4.000000      10.000000       0.000000       0.000000   \n",
       "50%         6.000000      14.000000       0.000000       0.000000   \n",
       "75%         8.000000      19.000000       0.000000       0.000000   \n",
       "max       199.000000     383.000000       1.000000       1.000000   \n",
       "\n",
       "        CarrierDelay   WeatherDelay       NASDelay  SecurityDelay  \\\n",
       "count  121678.000000  121678.000000  121678.000000  121678.000000   \n",
       "mean        5.999269       1.181504       6.164985       0.029833   \n",
       "std        26.057501      12.235605      20.352175       1.004145   \n",
       "min         0.000000       0.000000       0.000000       0.000000   \n",
       "25%         0.000000       0.000000       0.000000       0.000000   \n",
       "50%         0.000000       0.000000       0.000000       0.000000   \n",
       "75%         0.000000       0.000000       0.000000       0.000000   \n",
       "max      1072.000000     893.000000     655.000000     135.000000   \n",
       "\n",
       "       LateAircraftDelay  \n",
       "count      121678.000000  \n",
       "mean            7.880874  \n",
       "std            25.954718  \n",
       "min             0.000000  \n",
       "25%             0.000000  \n",
       "50%             0.000000  \n",
       "75%             0.000000  \n",
       "max           546.000000  \n",
       "\n",
       "[8 rows x 24 columns]"
      ]
     },
     "execution_count": 172,
     "metadata": {},
     "output_type": "execute_result"
    }
   ],
   "source": [
    "df.describe()"
   ]
  },
  {
   "cell_type": "code",
   "execution_count": 173,
   "metadata": {},
   "outputs": [
    {
     "data": {
      "text/plain": [
       "Index([u'DepTime', u'ArrTime', u'TailNum', u'ActualElapsedTime',\n",
       "       u'CRSElapsedTime', u'AirTime', u'ArrDelay', u'DepDelay', u'TaxiIn',\n",
       "       u'TaxiOut', u'CancellationCode', u'CarrierDelay', u'WeatherDelay',\n",
       "       u'NASDelay', u'SecurityDelay', u'LateAircraftDelay'],\n",
       "      dtype='object')"
      ]
     },
     "execution_count": 173,
     "metadata": {},
     "output_type": "execute_result"
    }
   ],
   "source": [
    "df.columns[df.isnull().any()]"
   ]
  },
  {
   "cell_type": "code",
   "execution_count": 174,
   "metadata": {},
   "outputs": [
    {
     "data": {
      "text/plain": [
       "CancellationCode     0.979110\n",
       "LateAircraftDelay    0.391610\n",
       "SecurityDelay        0.391610\n",
       "NASDelay             0.391610\n",
       "WeatherDelay         0.391610\n",
       "CarrierDelay         0.391610\n",
       "ArrDelay             0.023255\n",
       "AirTime              0.023255\n",
       "ActualElapsedTime    0.023255\n",
       "ArrTime              0.023015\n",
       "DepDelay             0.020780\n",
       "DepTime              0.020780\n",
       "TaxiIn               0.011295\n",
       "TaxiOut              0.010155\n",
       "TailNum              0.006095\n",
       "CRSElapsedTime       0.000160\n",
       "dtype: float64"
      ]
     },
     "execution_count": 174,
     "metadata": {},
     "output_type": "execute_result"
    }
   ],
   "source": [
    "missing_values_cols=df.isnull().sum()/df.shape[0] \n",
    "missing_values_cols = missing_values_cols[missing_values_cols>0]\n",
    "missing_values_cols.sort_values(inplace=True,ascending=False)\n",
    "missing_values_cols"
   ]
  },
  {
   "cell_type": "markdown",
   "metadata": {},
   "source": [
    "CancellationCode is missing for 97% of data"
   ]
  },
  {
   "cell_type": "code",
   "execution_count": 175,
   "metadata": {},
   "outputs": [
    {
     "data": {
      "image/png": "[encoded data removed]",
      "text/plain": [
       "<matplotlib.figure.Figure at 0x133a427d0>"
      ]
     },
     "metadata": {},
     "output_type": "display_data"
    }
   ],
   "source": [
    "missing_values_cols.plot(kind='bar')\n",
    "plt.show()"
   ]
  },
  {
   "cell_type": "markdown",
   "metadata": {},
   "source": [
    "** Model Hypothesis **\n",
    "\n",
    "Our \"target\" variable will be DepDelay (scheduled departure delay in minutes). To build a classifier, we further refine our target variable into a binary variable by defining a \"delay\" as having 15 mins or more of delay, and \"non-delay\" otherwise. We thus create a new binary variable that we name 'DepDelayed'."
   ]
  },
  {
   "cell_type": "code",
   "execution_count": 176,
   "metadata": {
    "collapsed": true
   },
   "outputs": [],
   "source": [
    "def gen_class(inp):\n",
    "    if inp>15:\n",
    "        return 1\n",
    "    else:\n",
    "        return 0"
   ]
  },
  {
   "cell_type": "code",
   "execution_count": 177,
   "metadata": {},
   "outputs": [],
   "source": [
    "df['label'] = df['DepDelay'].apply(gen_class)"
   ]
  },
  {
   "cell_type": "code",
   "execution_count": 178,
   "metadata": {},
   "outputs": [
    {
     "data": {
      "text/html": [
       "<div>\n",
       "<table border=\"1\" class=\"dataframe\">\n",
       "  <thead>\n",
       "    <tr style=\"text-align: right;\">\n",
       "      <th></th>\n",
       "      <th>DepDelay</th>\n",
       "      <th>label</th>\n",
       "    </tr>\n",
       "  </thead>\n",
       "  <tbody>\n",
       "    <tr>\n",
       "      <th>0</th>\n",
       "      <td>-2.0</td>\n",
       "      <td>0</td>\n",
       "    </tr>\n",
       "    <tr>\n",
       "      <th>1</th>\n",
       "      <td>12.0</td>\n",
       "      <td>0</td>\n",
       "    </tr>\n",
       "    <tr>\n",
       "      <th>2</th>\n",
       "      <td>0.0</td>\n",
       "      <td>0</td>\n",
       "    </tr>\n",
       "    <tr>\n",
       "      <th>3</th>\n",
       "      <td>-2.0</td>\n",
       "      <td>0</td>\n",
       "    </tr>\n",
       "    <tr>\n",
       "      <th>4</th>\n",
       "      <td>-1.0</td>\n",
       "      <td>0</td>\n",
       "    </tr>\n",
       "  </tbody>\n",
       "</table>\n",
       "</div>"
      ],
      "text/plain": [
       "   DepDelay  label\n",
       "0      -2.0      0\n",
       "1      12.0      0\n",
       "2       0.0      0\n",
       "3      -2.0      0\n",
       "4      -1.0      0"
      ]
     },
     "execution_count": 178,
     "metadata": {},
     "output_type": "execute_result"
    }
   ],
   "source": [
    "df[['DepDelay','label']].head()"
   ]
  },
  {
   "cell_type": "code",
   "execution_count": 179,
   "metadata": {},
   "outputs": [
    {
     "data": {
      "text/plain": [
       "0    80.781\n",
       "1    19.219\n",
       "Name: label, dtype: float64"
      ]
     },
     "execution_count": 179,
     "metadata": {},
     "output_type": "execute_result"
    }
   ],
   "source": [
    "df.label.value_counts()/df.shape[0]*100"
   ]
  },
  {
   "cell_type": "markdown",
   "metadata": {},
   "source": [
    "As per sample data , 20% of the flights get delayed "
   ]
  },
  {
   "cell_type": "code",
   "execution_count": 180,
   "metadata": {},
   "outputs": [
    {
     "data": {
      "image/png": "[encoded data removed]",
      "text/plain": [
       "<matplotlib.figure.Figure at 0x10ff8c410>"
      ]
     },
     "metadata": {},
     "output_type": "display_data"
    }
   ],
   "source": [
    "# Select a Pandas dataframe with flight originating from ORD\n",
    "\n",
    "\n",
    "# Compute average number of delayed flights per month\n",
    "grouped = df[['label', 'Month']].groupby('Month').mean()\n",
    "\n",
    "# plot average delays by month\n",
    "grouped.plot(kind='bar',colormap=plt.get_cmap('summer'))\n",
    "plt.show()"
   ]
  },
  {
   "cell_type": "markdown",
   "metadata": {},
   "source": [
    "We see that the average number of delays is highest in December and February, which is what we would expect."
   ]
  },
  {
   "cell_type": "code",
   "execution_count": 181,
   "metadata": {},
   "outputs": [
    {
     "data": {
      "image/png": "[encoded data removed]",
      "text/plain": [
       "<matplotlib.figure.Figure at 0x121d82d50>"
      ]
     },
     "metadata": {},
     "output_type": "display_data"
    }
   ],
   "source": [
    "# Compute average number of delayed flights by hour\n",
    "df['hour'] = df['CRSDepTime'].map(lambda x: int(str(int(x)).zfill(4)[:2]))\n",
    "grouped = df[['label', 'hour']].groupby('hour').mean()\n",
    "\n",
    "# plot average delays by hour of day\n",
    "grouped.plot(kind='bar',colormap=plt.get_cmap('Set2'))\n",
    "plt.show()"
   ]
  },
  {
   "cell_type": "markdown",
   "metadata": {},
   "source": [
    "A clear pattern here - flights tend to be delayed later in the day. Perhaps this is because delays tend to pile up as the day progresses and the problem tends to compound later in the day"
   ]
  },
  {
   "cell_type": "code",
   "execution_count": 182,
   "metadata": {},
   "outputs": [
    {
     "data": {
      "image/png": "[encoded data removed]",
      "text/plain": [
       "<matplotlib.figure.Figure at 0x114f4dcd0>"
      ]
     },
     "metadata": {},
     "output_type": "display_data"
    }
   ],
   "source": [
    "# Compute average number of delayed flights per carrier\n",
    "grouped1 = df[['label', 'UniqueCarrier']].groupby('UniqueCarrier').filter(lambda x: len(x)>10)\n",
    "grouped2 = grouped1.groupby('UniqueCarrier').mean()\n",
    "carrier = grouped2.sort_values(['label'], ascending=False)\n",
    "\n",
    "# display top 15 destination carriers by delay (from ORD)\n",
    "carrier[:15].plot(kind='bar',colormap=plt.get_cmap('Set3'))\n",
    "plt.show()"
   ]
  },
  {
   "cell_type": "markdown",
   "metadata": {},
   "source": [
    "Few airlines are better than others"
   ]
  },
  {
   "cell_type": "code",
   "execution_count": 183,
   "metadata": {
    "collapsed": true
   },
   "outputs": [],
   "source": [
    "numeric_data = df[['Month','DayofMonth','DayOfWeek','hour','UniqueCarrier','Dest','Distance']].select_dtypes(include=[np.number])\n",
    "cat_data = df[['Month','DayofMonth','DayOfWeek','hour','UniqueCarrier','Dest','Distance']].select_dtypes(exclude=[np.number])"
   ]
  },
  {
   "cell_type": "code",
   "execution_count": 184,
   "metadata": {},
   "outputs": [
    {
     "data": {
      "image/png": "[encoded data removed]",
      "text/plain": [
       "<matplotlib.figure.Figure at 0x1136bb3d0>"
      ]
     },
     "metadata": {},
     "output_type": "display_data"
    }
   ],
   "source": [
    "fig,axes = plt.subplots(2,2,figsize=(15,10))\n",
    "\n",
    "i=0\n",
    "for l in axes:\n",
    "    for rec in l:\n",
    "        \n",
    "        numeric_data.hist(column=numeric_data.columns[i],bins=10,ax=rec)\n",
    "        if i>5:\n",
    "            break\n",
    "        i+=1"
   ]
  },
  {
   "cell_type": "markdown",
   "metadata": {},
   "source": [
    "** Pre Processing **\n",
    "\n",
    "**Feature Hypothesis**\n",
    "\n",
    "**month**: winter months should have more delays than summer months \n",
    "<br>\n",
    "**day of month**: this is likely not a very predictive variable, but let's keep it in anyway\n",
    "<br>\n",
    "**day of week**: weekend vs. weekday\n",
    "<br>\n",
    "**hour of the day**: later hours tend to have more delays\n",
    "<br>\n",
    "**Carrier**: we might expect some carriers to be more prone to delays than others\n",
    "<br>\n",
    "**Destination airport**: we expect some airports to be more prone to delays than others\n",
    "<br>\n",
    "**Distance**: interesting to see if this variable is a good predictor of delay\n"
   ]
  },
  {
   "cell_type": "code",
   "execution_count": 185,
   "metadata": {},
   "outputs": [
    {
     "data": {
      "text/plain": [
       "Index([u'Year', u'Month', u'DayofMonth', u'DayOfWeek', u'DepTime',\n",
       "       u'CRSDepTime', u'ArrTime', u'CRSArrTime', u'UniqueCarrier',\n",
       "       u'FlightNum', u'TailNum', u'ActualElapsedTime', u'CRSElapsedTime',\n",
       "       u'AirTime', u'ArrDelay', u'DepDelay', u'Origin', u'Dest', u'Distance',\n",
       "       u'TaxiIn', u'TaxiOut', u'Cancelled', u'CancellationCode', u'Diverted',\n",
       "       u'CarrierDelay', u'WeatherDelay', u'NASDelay', u'SecurityDelay',\n",
       "       u'LateAircraftDelay', u'label', u'hour'],\n",
       "      dtype='object')"
      ]
     },
     "execution_count": 185,
     "metadata": {},
     "output_type": "execute_result"
    }
   ],
   "source": [
    "df.columns"
   ]
  },
  {
   "cell_type": "code",
   "execution_count": 198,
   "metadata": {
    "collapsed": true
   },
   "outputs": [],
   "source": [
    "X = df[['Month','DayofMonth','DayOfWeek','hour','UniqueCarrier','Dest','Distance']]\n",
    "y= df['label']"
   ]
  },
  {
   "cell_type": "code",
   "execution_count": 199,
   "metadata": {},
   "outputs": [
    {
     "data": {
      "text/plain": [
       "((200000, 7), (200000,))"
      ]
     },
     "execution_count": 199,
     "metadata": {},
     "output_type": "execute_result"
    }
   ],
   "source": [
    "X.shape,y.shape"
   ]
  },
  {
   "cell_type": "code",
   "execution_count": 188,
   "metadata": {},
   "outputs": [],
   "source": [
    "X_train,X_test,y_train,y_test = train_test_split(X,y,test_size=0.3 ,random_state=0)"
   ]
  },
  {
   "cell_type": "code",
   "execution_count": 189,
   "metadata": {},
   "outputs": [
    {
     "data": {
      "text/plain": [
       "((140000, 7), (60000, 7), (140000, 1), (60000, 1))"
      ]
     },
     "execution_count": 189,
     "metadata": {},
     "output_type": "execute_result"
    }
   ],
   "source": [
    "X_train.shape,X_test.shape,y_train.shape,y_test.shape"
   ]
  },
  {
   "cell_type": "markdown",
   "metadata": {},
   "source": [
    "## Label Encoding & One Hot Encoding "
   ]
  },
  {
   "cell_type": "code",
   "execution_count": 190,
   "metadata": {
    "collapsed": true
   },
   "outputs": [],
   "source": [
    "le=LabelEncoder()\n",
    "#data=pd.DataFrame()"
   ]
  },
  {
   "cell_type": "code",
   "execution_count": 191,
   "metadata": {},
   "outputs": [
    {
     "name": "stderr",
     "output_type": "stream",
     "text": [
      "/Users/rishabh/anaconda/lib/python2.7/site-packages/ipykernel/__main__.py:7: SettingWithCopyWarning: \n",
      "A value is trying to be set on a copy of a slice from a DataFrame.\n",
      "Try using .loc[row_indexer,col_indexer] = value instead\n",
      "\n",
      "See the caveats in the documentation: http://pandas.pydata.org/pandas-docs/stable/indexing.html#indexing-view-versus-copy\n",
      "/Users/rishabh/anaconda/lib/python2.7/site-packages/ipykernel/__main__.py:8: SettingWithCopyWarning: \n",
      "A value is trying to be set on a copy of a slice from a DataFrame.\n",
      "Try using .loc[row_indexer,col_indexer] = value instead\n",
      "\n",
      "See the caveats in the documentation: http://pandas.pydata.org/pandas-docs/stable/indexing.html#indexing-view-versus-copy\n"
     ]
    }
   ],
   "source": [
    "for col in X_test.columns.values:\n",
    "       # Encoding only categorical variables\n",
    "        if X_test[col].dtypes=='object':\n",
    "            #print col\n",
    "            data=X_train[col].append(X_test[col])\n",
    "            le.fit(data.values)\n",
    "            X_train[col]=le.transform(X_train[col])\n",
    "            X_test[col]=le.transform(X_test[col])"
   ]
  },
  {
   "cell_type": "code",
   "execution_count": 192,
   "metadata": {},
   "outputs": [
    {
     "data": {
      "text/html": [
       "<div>\n",
       "<table border=\"1\" class=\"dataframe\">\n",
       "  <thead>\n",
       "    <tr style=\"text-align: right;\">\n",
       "      <th></th>\n",
       "      <th>Month</th>\n",
       "      <th>DayofMonth</th>\n",
       "      <th>DayOfWeek</th>\n",
       "      <th>hour</th>\n",
       "      <th>UniqueCarrier</th>\n",
       "      <th>Dest</th>\n",
       "      <th>Distance</th>\n",
       "    </tr>\n",
       "  </thead>\n",
       "  <tbody>\n",
       "    <tr>\n",
       "      <th>32759</th>\n",
       "      <td>4</td>\n",
       "      <td>12</td>\n",
       "      <td>4</td>\n",
       "      <td>13</td>\n",
       "      <td>6</td>\n",
       "      <td>277</td>\n",
       "      <td>445</td>\n",
       "    </tr>\n",
       "    <tr>\n",
       "      <th>28335</th>\n",
       "      <td>4</td>\n",
       "      <td>14</td>\n",
       "      <td>6</td>\n",
       "      <td>12</td>\n",
       "      <td>16</td>\n",
       "      <td>223</td>\n",
       "      <td>992</td>\n",
       "    </tr>\n",
       "    <tr>\n",
       "      <th>36594</th>\n",
       "      <td>5</td>\n",
       "      <td>2</td>\n",
       "      <td>3</td>\n",
       "      <td>12</td>\n",
       "      <td>16</td>\n",
       "      <td>64</td>\n",
       "      <td>544</td>\n",
       "    </tr>\n",
       "    <tr>\n",
       "      <th>60228</th>\n",
       "      <td>7</td>\n",
       "      <td>19</td>\n",
       "      <td>6</td>\n",
       "      <td>21</td>\n",
       "      <td>6</td>\n",
       "      <td>80</td>\n",
       "      <td>547</td>\n",
       "    </tr>\n",
       "    <tr>\n",
       "      <th>32979</th>\n",
       "      <td>4</td>\n",
       "      <td>23</td>\n",
       "      <td>3</td>\n",
       "      <td>10</td>\n",
       "      <td>1</td>\n",
       "      <td>261</td>\n",
       "      <td>337</td>\n",
       "    </tr>\n",
       "  </tbody>\n",
       "</table>\n",
       "</div>"
      ],
      "text/plain": [
       "       Month  DayofMonth  DayOfWeek  hour  UniqueCarrier  Dest  Distance\n",
       "32759      4          12          4    13              6   277       445\n",
       "28335      4          14          6    12             16   223       992\n",
       "36594      5           2          3    12             16    64       544\n",
       "60228      7          19          6    21              6    80       547\n",
       "32979      4          23          3    10              1   261       337"
      ]
     },
     "execution_count": 192,
     "metadata": {},
     "output_type": "execute_result"
    }
   ],
   "source": [
    "X_train.head()"
   ]
  },
  {
   "cell_type": "code",
   "execution_count": 193,
   "metadata": {},
   "outputs": [],
   "source": [
    "enc=OneHotEncoder(sparse=False)"
   ]
  },
  {
   "cell_type": "code",
   "execution_count": 194,
   "metadata": {},
   "outputs": [],
   "source": [
    "X_train_1=X_train\n",
    "X_test_1=X_test\n",
    "cols=['UniqueCarrier','Dest']\n",
    "for col in cols:\n",
    "    data=X_train[[col]].append(X_test[[col]])\n",
    "    enc.fit(data)\n",
    "    temp = enc.transform(X_train[[col]])\n",
    "    temp=pd.DataFrame(temp,columns=[(col+\"_\"+str(i)) for i in data[col].value_counts().index])\n",
    "    temp=temp.set_index(X_train.index.values)\n",
    "    X_train_1=pd.concat([X_train_1,temp],axis=1)\n",
    "    temp = enc.transform(X_test[[col]])\n",
    "    temp=pd.DataFrame(temp,columns=[(col+\"_\"+str(i)) for i in data[col].value_counts().index])\n",
    "    temp=temp.set_index(X_test.index.values)\n",
    "    X_test_1=pd.concat([X_test_1,temp],axis=1)"
   ]
  },
  {
   "cell_type": "code",
   "execution_count": 195,
   "metadata": {},
   "outputs": [
    {
     "data": {
      "text/html": [
       "<div>\n",
       "<table border=\"1\" class=\"dataframe\">\n",
       "  <thead>\n",
       "    <tr style=\"text-align: right;\">\n",
       "      <th></th>\n",
       "      <th>Month</th>\n",
       "      <th>DayofMonth</th>\n",
       "      <th>DayOfWeek</th>\n",
       "      <th>hour</th>\n",
       "      <th>UniqueCarrier</th>\n",
       "      <th>Dest</th>\n",
       "      <th>Distance</th>\n",
       "      <th>UniqueCarrier_17</th>\n",
       "      <th>UniqueCarrier_1</th>\n",
       "      <th>UniqueCarrier_14</th>\n",
       "      <th>...</th>\n",
       "      <th>Dest_33</th>\n",
       "      <th>Dest_8</th>\n",
       "      <th>Dest_174</th>\n",
       "      <th>Dest_136</th>\n",
       "      <th>Dest_274</th>\n",
       "      <th>Dest_84</th>\n",
       "      <th>Dest_89</th>\n",
       "      <th>Dest_146</th>\n",
       "      <th>Dest_124</th>\n",
       "      <th>Dest_148</th>\n",
       "    </tr>\n",
       "  </thead>\n",
       "  <tbody>\n",
       "    <tr>\n",
       "      <th>32759</th>\n",
       "      <td>4</td>\n",
       "      <td>12</td>\n",
       "      <td>4</td>\n",
       "      <td>13</td>\n",
       "      <td>6</td>\n",
       "      <td>277</td>\n",
       "      <td>445</td>\n",
       "      <td>0.0</td>\n",
       "      <td>0.0</td>\n",
       "      <td>0.0</td>\n",
       "      <td>...</td>\n",
       "      <td>0.0</td>\n",
       "      <td>0.0</td>\n",
       "      <td>0.0</td>\n",
       "      <td>0.0</td>\n",
       "      <td>0.0</td>\n",
       "      <td>0.0</td>\n",
       "      <td>0.0</td>\n",
       "      <td>0.0</td>\n",
       "      <td>0.0</td>\n",
       "      <td>0.0</td>\n",
       "    </tr>\n",
       "    <tr>\n",
       "      <th>28335</th>\n",
       "      <td>4</td>\n",
       "      <td>14</td>\n",
       "      <td>6</td>\n",
       "      <td>12</td>\n",
       "      <td>16</td>\n",
       "      <td>223</td>\n",
       "      <td>992</td>\n",
       "      <td>0.0</td>\n",
       "      <td>0.0</td>\n",
       "      <td>0.0</td>\n",
       "      <td>...</td>\n",
       "      <td>0.0</td>\n",
       "      <td>0.0</td>\n",
       "      <td>0.0</td>\n",
       "      <td>0.0</td>\n",
       "      <td>0.0</td>\n",
       "      <td>0.0</td>\n",
       "      <td>0.0</td>\n",
       "      <td>0.0</td>\n",
       "      <td>0.0</td>\n",
       "      <td>0.0</td>\n",
       "    </tr>\n",
       "    <tr>\n",
       "      <th>36594</th>\n",
       "      <td>5</td>\n",
       "      <td>2</td>\n",
       "      <td>3</td>\n",
       "      <td>12</td>\n",
       "      <td>16</td>\n",
       "      <td>64</td>\n",
       "      <td>544</td>\n",
       "      <td>0.0</td>\n",
       "      <td>0.0</td>\n",
       "      <td>0.0</td>\n",
       "      <td>...</td>\n",
       "      <td>0.0</td>\n",
       "      <td>0.0</td>\n",
       "      <td>0.0</td>\n",
       "      <td>0.0</td>\n",
       "      <td>0.0</td>\n",
       "      <td>0.0</td>\n",
       "      <td>0.0</td>\n",
       "      <td>0.0</td>\n",
       "      <td>0.0</td>\n",
       "      <td>0.0</td>\n",
       "    </tr>\n",
       "    <tr>\n",
       "      <th>60228</th>\n",
       "      <td>7</td>\n",
       "      <td>19</td>\n",
       "      <td>6</td>\n",
       "      <td>21</td>\n",
       "      <td>6</td>\n",
       "      <td>80</td>\n",
       "      <td>547</td>\n",
       "      <td>0.0</td>\n",
       "      <td>0.0</td>\n",
       "      <td>0.0</td>\n",
       "      <td>...</td>\n",
       "      <td>0.0</td>\n",
       "      <td>0.0</td>\n",
       "      <td>0.0</td>\n",
       "      <td>0.0</td>\n",
       "      <td>0.0</td>\n",
       "      <td>0.0</td>\n",
       "      <td>0.0</td>\n",
       "      <td>0.0</td>\n",
       "      <td>0.0</td>\n",
       "      <td>0.0</td>\n",
       "    </tr>\n",
       "    <tr>\n",
       "      <th>32979</th>\n",
       "      <td>4</td>\n",
       "      <td>23</td>\n",
       "      <td>3</td>\n",
       "      <td>10</td>\n",
       "      <td>1</td>\n",
       "      <td>261</td>\n",
       "      <td>337</td>\n",
       "      <td>0.0</td>\n",
       "      <td>1.0</td>\n",
       "      <td>0.0</td>\n",
       "      <td>...</td>\n",
       "      <td>0.0</td>\n",
       "      <td>0.0</td>\n",
       "      <td>0.0</td>\n",
       "      <td>0.0</td>\n",
       "      <td>0.0</td>\n",
       "      <td>0.0</td>\n",
       "      <td>0.0</td>\n",
       "      <td>0.0</td>\n",
       "      <td>0.0</td>\n",
       "      <td>0.0</td>\n",
       "    </tr>\n",
       "  </tbody>\n",
       "</table>\n",
       "<p>5 rows × 334 columns</p>\n",
       "</div>"
      ],
      "text/plain": [
       "       Month  DayofMonth  DayOfWeek  hour  UniqueCarrier  Dest  Distance  \\\n",
       "32759      4          12          4    13              6   277       445   \n",
       "28335      4          14          6    12             16   223       992   \n",
       "36594      5           2          3    12             16    64       544   \n",
       "60228      7          19          6    21              6    80       547   \n",
       "32979      4          23          3    10              1   261       337   \n",
       "\n",
       "       UniqueCarrier_17  UniqueCarrier_1  UniqueCarrier_14    ...     Dest_33  \\\n",
       "32759               0.0              0.0               0.0    ...         0.0   \n",
       "28335               0.0              0.0               0.0    ...         0.0   \n",
       "36594               0.0              0.0               0.0    ...         0.0   \n",
       "60228               0.0              0.0               0.0    ...         0.0   \n",
       "32979               0.0              1.0               0.0    ...         0.0   \n",
       "\n",
       "       Dest_8  Dest_174  Dest_136  Dest_274  Dest_84  Dest_89  Dest_146  \\\n",
       "32759     0.0       0.0       0.0       0.0      0.0      0.0       0.0   \n",
       "28335     0.0       0.0       0.0       0.0      0.0      0.0       0.0   \n",
       "36594     0.0       0.0       0.0       0.0      0.0      0.0       0.0   \n",
       "60228     0.0       0.0       0.0       0.0      0.0      0.0       0.0   \n",
       "32979     0.0       0.0       0.0       0.0      0.0      0.0       0.0   \n",
       "\n",
       "       Dest_124  Dest_148  \n",
       "32759       0.0       0.0  \n",
       "28335       0.0       0.0  \n",
       "36594       0.0       0.0  \n",
       "60228       0.0       0.0  \n",
       "32979       0.0       0.0  \n",
       "\n",
       "[5 rows x 334 columns]"
      ]
     },
     "execution_count": 195,
     "metadata": {},
     "output_type": "execute_result"
    }
   ],
   "source": [
    "X_train_1.head()"
   ]
  },
  {
   "cell_type": "code",
   "execution_count": 196,
   "metadata": {},
   "outputs": [],
   "source": [
    "stdX = StandardScaler()\n",
    "X_train_1= stdX.fit_transform(X_train_1)\n",
    "X_test_1 = stdX.transform(X_test_1)"
   ]
  },
  {
   "cell_type": "markdown",
   "metadata": {},
   "source": [
    "## Logistic Regression Model"
   ]
  },
  {
   "cell_type": "code",
   "execution_count": 153,
   "metadata": {},
   "outputs": [
    {
     "data": {
      "text/plain": [
       "LogisticRegression(C=1.0, class_weight=None, dual=False, fit_intercept=True,\n",
       "          intercept_scaling=1, max_iter=100, multi_class='ovr', n_jobs=1,\n",
       "          penalty='l2', random_state=None, solver='liblinear', tol=0.0001,\n",
       "          verbose=0, warm_start=False)"
      ]
     },
     "execution_count": 153,
     "metadata": {},
     "output_type": "execute_result"
    }
   ],
   "source": [
    "clf1 = LogisticRegression()\n",
    "clf1.fit(X_train_1,y_train)"
   ]
  },
  {
   "cell_type": "code",
   "execution_count": 156,
   "metadata": {},
   "outputs": [],
   "source": [
    "y_pred = clf1.predict(X_test_1)"
   ]
  },
  {
   "cell_type": "code",
   "execution_count": 158,
   "metadata": {},
   "outputs": [
    {
     "name": "stdout",
     "output_type": "stream",
     "text": [
      "Accuracy: 0.806516666667\n",
      "             precision    recall  f1-score   support\n",
      "\n",
      "          0       0.81      1.00      0.89     48458\n",
      "          1       0.31      0.00      0.01     11542\n",
      "\n",
      "avg / total       0.71      0.81      0.72     60000\n",
      "\n"
     ]
    }
   ],
   "source": [
    "print \"Accuracy:\", accuracy_score(y_test,y_pred)\n",
    "print classification_report(y_test,y_pred)"
   ]
  },
  {
   "cell_type": "code",
   "execution_count": 159,
   "metadata": {},
   "outputs": [
    {
     "data": {
      "text/plain": [
       "array([[48335,   123],\n",
       "       [11486,    56]])"
      ]
     },
     "execution_count": 159,
     "metadata": {},
     "output_type": "execute_result"
    }
   ],
   "source": [
    "confusion_matrix(y_test,y_pred)"
   ]
  },
  {
   "cell_type": "markdown",
   "metadata": {},
   "source": [
    "** Accuracy :** 80%\n",
    "<br>\n",
    "** Precision: ** 71%\n",
    "<br>\n",
    "** Recall : ** 81%\n",
    "<br>\n",
    "** F1-Score: ** 72"
   ]
  },
  {
   "cell_type": "markdown",
   "metadata": {},
   "source": [
    "## Random Forest Model"
   ]
  },
  {
   "cell_type": "code",
   "execution_count": 197,
   "metadata": {},
   "outputs": [
    {
     "name": "stderr",
     "output_type": "stream",
     "text": [
      "/Users/rishabh/anaconda/lib/python2.7/site-packages/ipykernel/__main__.py:2: DataConversionWarning: A column-vector y was passed when a 1d array was expected. Please change the shape of y to (n_samples,), for example using ravel().\n",
      "  from ipykernel import kernelapp as app\n"
     ]
    },
    {
     "data": {
      "text/plain": [
       "RandomForestClassifier(bootstrap=True, class_weight=None, criterion='gini',\n",
       "            max_depth=None, max_features='auto', max_leaf_nodes=None,\n",
       "            min_impurity_split=1e-07, min_samples_leaf=1,\n",
       "            min_samples_split=2, min_weight_fraction_leaf=0.0,\n",
       "            n_estimators=500, n_jobs=1, oob_score=False, random_state=None,\n",
       "            verbose=0, warm_start=False)"
      ]
     },
     "execution_count": 197,
     "metadata": {},
     "output_type": "execute_result"
    }
   ],
   "source": [
    "rfClf = RandomForestClassifier(n_estimators=500)\n",
    "rfClf.fit(X_train_1,y_train)"
   ]
  },
  {
   "cell_type": "code",
   "execution_count": 201,
   "metadata": {},
   "outputs": [],
   "source": [
    "y_pred = rfClf.predict(X_test_1)"
   ]
  },
  {
   "cell_type": "code",
   "execution_count": 202,
   "metadata": {},
   "outputs": [
    {
     "name": "stdout",
     "output_type": "stream",
     "text": [
      "Accuracy: 0.805733333333\n",
      "             precision    recall  f1-score   support\n",
      "\n",
      "          0       0.82      0.98      0.89     48660\n",
      "          1       0.42      0.08      0.13     11340\n",
      "\n",
      "avg / total       0.74      0.81      0.75     60000\n",
      "\n"
     ]
    }
   ],
   "source": [
    "print \"Accuracy:\", accuracy_score(y_test,y_pred)\n",
    "print classification_report(y_test,y_pred)"
   ]
  },
  {
   "cell_type": "code",
   "execution_count": 203,
   "metadata": {},
   "outputs": [
    {
     "data": {
      "text/plain": [
       "array([[47474,  1186],\n",
       "       [10470,   870]])"
      ]
     },
     "execution_count": 203,
     "metadata": {},
     "output_type": "execute_result"
    }
   ],
   "source": [
    "confusion_matrix(y_test,y_pred)"
   ]
  },
  {
   "cell_type": "markdown",
   "metadata": {},
   "source": [
    "** Logistic Regression ** seems to do pretty decent job with 80% Accuracy"
   ]
  },
  {
   "cell_type": "markdown",
   "metadata": {},
   "source": []
  }
 ],
 "metadata": {
  "anaconda-cloud": {},
  "kernelspec": {
   "display_name": "Python [conda root]",
   "language": "python",
   "name": "conda-root-py"
  },
  "language_info": {
   "codemirror_mode": {
    "name": "ipython",
    "version": 2
   },
   "file_extension": ".py",
   "mimetype": "text/x-python",
   "name": "python",
   "nbconvert_exporter": "python",
   "pygments_lexer": "ipython2",
   "version": "2.7.12"
  }
 },
 "nbformat": 4,
 "nbformat_minor": 1
}
